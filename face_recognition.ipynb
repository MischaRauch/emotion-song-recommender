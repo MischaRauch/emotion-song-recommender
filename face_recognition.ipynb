{
 "cells": [
  {
   "cell_type": "code",
   "execution_count": 1,
   "metadata": {},
   "outputs": [
    {
     "name": "stderr",
     "output_type": "stream",
     "text": [
      "2023-03-17 16:02:57.106220: I tensorflow/core/platform/cpu_feature_guard.cc:193] This TensorFlow binary is optimized with oneAPI Deep Neural Network Library (oneDNN) to use the following CPU instructions in performance-critical operations:  AVX2 FMA\n",
      "To enable them in other operations, rebuild TensorFlow with the appropriate compiler flags.\n",
      "/opt/anaconda3/envs/IS/lib/python3.10/site-packages/requests/__init__.py:102: RequestsDependencyWarning: urllib3 (1.26.9) or chardet (5.1.0)/charset_normalizer (None) doesn't match a supported version!\n",
      "  warnings.warn(\"urllib3 ({}) or chardet ({})/charset_normalizer ({}) doesn't match a supported \"\n"
     ]
    }
   ],
   "source": [
    "from deepface import DeepFace"
   ]
  },
  {
   "cell_type": "code",
   "execution_count": 5,
   "metadata": {},
   "outputs": [
    {
     "name": "stderr",
     "output_type": "stream",
     "text": [
      "Action: race: 100%|██████████| 4/4 [00:00<00:00,  7.08it/s]  "
     ]
    },
    {
     "name": "stdout",
     "output_type": "stream",
     "text": [
      "[{'emotion': {'angry': 5.058629955030782e-16, 'disgust': 1.3592825033951627e-28, 'fear': 2.2512698819590643e-17, 'happy': 99.99958872792654, 'sad': 3.6078986726967884e-15, 'surprise': 1.6338946771474983e-13, 'neutral': 0.0004126845642947006}, 'dominant_emotion': 'happy', 'region': {'x': 1953, 'y': 746, 'w': 1170, 'h': 1170}, 'age': 24, 'gender': {'Woman': 0.13234749203547835, 'Man': 99.86764788627625}, 'dominant_gender': 'Man', 'race': {'asian': 0.04358116420917213, 'indian': 0.16676425002515316, 'black': 0.006122087506810203, 'white': 84.05798673629761, 'middle eastern': 7.28401318192482, 'latino hispanic': 8.441534638404846}, 'dominant_race': 'white'}]\n"
     ]
    },
    {
     "name": "stderr",
     "output_type": "stream",
     "text": [
      "\n"
     ]
    }
   ],
   "source": [
    "face_analysis = DeepFace.analyze(img_path = \"/Users/mischatomaszrauch/UM/AcademicYear_03/04_Period/IntelligentSystems/emotion-song-recommender/database/Mischa.jpg\")\n",
    "print(face_analysis)"
   ]
  },
  {
   "cell_type": "code",
   "execution_count": 2,
   "metadata": {},
   "outputs": [
    {
     "name": "stdout",
     "output_type": "stream",
     "text": [
      "facial recognition model VGG-Face is just built\n",
      "Age model is just built\n",
      "Gender model is just built\n",
      "Emotion model is just built\n",
      "WARNING: Representations for images in database folder were previously stored in representations_vgg_face.pkl. If you added new instances after the creation, then please delete this file and call find function again. It will create it again.\n",
      "There are  1  representations found in  representations_vgg_face.pkl\n",
      "find function lasts  0.5489389896392822  seconds\n"
     ]
    },
    {
     "name": "stderr",
     "output_type": "stream",
     "text": [
      "[ WARN:0@15.541] global /private/var/folders/sy/f16zz6x50xz3113nwtb9bvq00000gp/T/abs_5a1v4y7k9y/croot/opencv-suite_1676472757237/work/modules/videoio/src/cap_gstreamer.cpp (862) isPipelinePlaying OpenCV | GStreamer warning: GStreamer: pipeline have not been created\n"
     ]
    }
   ],
   "source": [
    "data = DeepFace.stream('database')\n",
    "print(data)\n",
    "#Read more at: https://viso.ai/computer-vision/deepface/"
   ]
  },
  {
   "cell_type": "code",
   "execution_count": 2,
   "metadata": {},
   "outputs": [],
   "source": [
    "import get_songs as gs\n",
    "import models.load_model as model_library\n",
    "\n",
    "# Ele's client ID\n",
    "CLIENT_ID = '6e1a09c940a943da95144c6f49a0717b'\n",
    "CLIENT_PASSWORD = 'ccc2af43075641f9899eaaac5b716b8b'\n",
    "sp = gs.authenticate(CLIENT_ID, CLIENT_PASSWORD)\n",
    "mischasPreference = ['rock','pop','ambiente']"
   ]
  },
  {
   "cell_type": "code",
   "execution_count": 5,
   "metadata": {},
   "outputs": [
    {
     "name": "stdout",
     "output_type": "stream",
     "text": [
      "SONG  10    230480\n",
      "Name: length, dtype: int64\n"
     ]
    }
   ],
   "source": [
    "songs = gs.get_songs(sp, 100, gs.get_playlist_URI(sp, mischasPreference[0]))\n",
    "#songs.append(gs.get_songs(sp, 100, gs.get_playlist_URI(sp, mischasPreference[1])))\n",
    "#songs.append(gs.get_songs(sp, 100, gs.get_playlist_URI(sp, mischasPreference[2])))\n",
    "data = gs.create_table_songs(sp, songs)\n",
    "\n",
    "current_song = data.sample(1) # Assuming is a df with one sample\n",
    "print(\"SONG \",current_song['length'])"
   ]
  },
  {
   "cell_type": "code",
   "execution_count": 18,
   "metadata": {},
   "outputs": [
    {
     "data": {
      "text/plain": [
       "230480"
      ]
     },
     "execution_count": 18,
     "metadata": {},
     "output_type": "execute_result"
    }
   ],
   "source": [
    "current_song['length'].values[0]"
   ]
  },
  {
   "cell_type": "code",
   "execution_count": 22,
   "metadata": {},
   "outputs": [
    {
     "name": "stderr",
     "output_type": "stream",
     "text": [
      "[ WARN:0@73.586] global /private/var/folders/sy/f16zz6x50xz3113nwtb9bvq00000gp/T/abs_5a1v4y7k9y/croot/opencv-suite_1676472757237/work/modules/videoio/src/cap_gstreamer.cpp (862) isPipelinePlaying OpenCV | GStreamer warning: GStreamer: pipeline have not been created\n",
      "Action: race: 100%|██████████| 4/4 [00:01<00:00,  2.93it/s]   \n"
     ]
    }
   ],
   "source": [
    "import cv2 \n",
    "import time\n",
    "from deepface import DeepFace\n",
    "cam = cv2.VideoCapture(0)\n",
    "# wait to get enough light for image\n",
    "time.sleep(3)\n",
    "_, image = cam.read()\n",
    "cam.release()\n",
    "cv2.imwrite('test.png',image)\n",
    "data = DeepFace.analyze(image)"
   ]
  },
  {
   "cell_type": "code",
   "execution_count": 23,
   "metadata": {},
   "outputs": [
    {
     "data": {
      "text/plain": [
       "[{'emotion': {'angry': 7.216904427636197,\n",
       "   'disgust': 0.01508074381187112,\n",
       "   'fear': 35.46492880164728,\n",
       "   'happy': 0.8597595710765804,\n",
       "   'sad': 20.468827541926807,\n",
       "   'surprise': 0.10562283081907997,\n",
       "   'neutral': 35.868878468141375},\n",
       "  'dominant_emotion': 'neutral',\n",
       "  'region': {'x': 416, 'y': 62, 'w': 508, 'h': 508},\n",
       "  'age': 26,\n",
       "  'gender': {'Woman': 0.18170478288084269, 'Man': 99.81829524040222},\n",
       "  'dominant_gender': 'Man',\n",
       "  'race': {'asian': 0.1524364692158997,\n",
       "   'indian': 1.8705561757087708,\n",
       "   'black': 0.06450074724853039,\n",
       "   'white': 36.72723174095154,\n",
       "   'middle eastern': 42.22950339317322,\n",
       "   'latino hispanic': 18.95577162504196},\n",
       "  'dominant_race': 'middle eastern'}]"
      ]
     },
     "execution_count": 23,
     "metadata": {},
     "output_type": "execute_result"
    }
   ],
   "source": [
    "data"
   ]
  },
  {
   "cell_type": "code",
   "execution_count": 34,
   "metadata": {},
   "outputs": [],
   "source": [
    "import get_songs as gs\n",
    "CLIENT_ID = '6e1a09c940a943da95144c6f49a0717b'\n",
    "CLIENT_PASSWORD = 'ccc2af43075641f9899eaaac5b716b8b'\n",
    "sp = gs.authenticate(CLIENT_ID, CLIENT_PASSWORD)\n",
    "songs = gs.get_songs(sp, 50, gs.get_playlist_URI(sp, 'rock'))\n",
    "songs.extend(gs.get_songs(sp, 50, gs.get_playlist_URI(sp, 'pop')))\n",
    "#songs2 = gs.get_songs(sp, 100, gs.get_playlist_URI(sp, 'pop'))\n",
    "songs.extend(gs.get_songs(sp, 50, gs.get_playlist_URI(sp, 'metal')))\n",
    "#print(type(songs2))\n",
    "data = gs.create_table_songs(sp, songs)\n"
   ]
  },
  {
   "cell_type": "code",
   "execution_count": 35,
   "metadata": {},
   "outputs": [
    {
     "data": {
      "text/html": [
       "<div>\n",
       "<style scoped>\n",
       "    .dataframe tbody tr th:only-of-type {\n",
       "        vertical-align: middle;\n",
       "    }\n",
       "\n",
       "    .dataframe tbody tr th {\n",
       "        vertical-align: top;\n",
       "    }\n",
       "\n",
       "    .dataframe thead th {\n",
       "        text-align: right;\n",
       "    }\n",
       "</style>\n",
       "<table border=\"1\" class=\"dataframe\">\n",
       "  <thead>\n",
       "    <tr style=\"text-align: right;\">\n",
       "      <th></th>\n",
       "      <th>id</th>\n",
       "      <th>name</th>\n",
       "      <th>album</th>\n",
       "      <th>artist</th>\n",
       "      <th>release_date</th>\n",
       "      <th>popularity</th>\n",
       "      <th>length</th>\n",
       "      <th>danceability</th>\n",
       "      <th>acousticness</th>\n",
       "      <th>energy</th>\n",
       "      <th>instrumentalness</th>\n",
       "      <th>liveness</th>\n",
       "      <th>valence</th>\n",
       "      <th>loudness</th>\n",
       "      <th>speechiness</th>\n",
       "      <th>tempo</th>\n",
       "      <th>key</th>\n",
       "      <th>time_signature</th>\n",
       "    </tr>\n",
       "  </thead>\n",
       "  <tbody>\n",
       "    <tr>\n",
       "      <th>0</th>\n",
       "      <td>1e7sKwOgiMF2FBgb8HmlRb</td>\n",
       "      <td>Setting Me Up</td>\n",
       "      <td>Dire Straits</td>\n",
       "      <td>Dire Straits</td>\n",
       "      <td>1978-10-07</td>\n",
       "      <td>49</td>\n",
       "      <td>198906</td>\n",
       "      <td>0.668</td>\n",
       "      <td>0.015900</td>\n",
       "      <td>0.870</td>\n",
       "      <td>0.307000</td>\n",
       "      <td>0.3170</td>\n",
       "      <td>0.878</td>\n",
       "      <td>-9.697</td>\n",
       "      <td>0.0340</td>\n",
       "      <td>109.917</td>\n",
       "      <td>2</td>\n",
       "      <td>4</td>\n",
       "    </tr>\n",
       "    <tr>\n",
       "      <th>1</th>\n",
       "      <td>73TxYZd0lBCVRrHawrAglA</td>\n",
       "      <td>Sweet Emotion</td>\n",
       "      <td>Toys In The Attic</td>\n",
       "      <td>Aerosmith</td>\n",
       "      <td>1975-04-08</td>\n",
       "      <td>71</td>\n",
       "      <td>274088</td>\n",
       "      <td>0.379</td>\n",
       "      <td>0.002980</td>\n",
       "      <td>0.760</td>\n",
       "      <td>0.029600</td>\n",
       "      <td>0.1040</td>\n",
       "      <td>0.491</td>\n",
       "      <td>-10.961</td>\n",
       "      <td>0.0378</td>\n",
       "      <td>99.436</td>\n",
       "      <td>9</td>\n",
       "      <td>4</td>\n",
       "    </tr>\n",
       "    <tr>\n",
       "      <th>2</th>\n",
       "      <td>1YqJSpIxdavjQ8BxAttU0r</td>\n",
       "      <td>Lookin' Out My Back Door</td>\n",
       "      <td>Cosmo's Factory</td>\n",
       "      <td>Creedence Clearwater Revival</td>\n",
       "      <td>1970-07-24</td>\n",
       "      <td>68</td>\n",
       "      <td>152466</td>\n",
       "      <td>0.773</td>\n",
       "      <td>0.159000</td>\n",
       "      <td>0.756</td>\n",
       "      <td>0.002360</td>\n",
       "      <td>0.0805</td>\n",
       "      <td>0.912</td>\n",
       "      <td>-5.149</td>\n",
       "      <td>0.0388</td>\n",
       "      <td>105.322</td>\n",
       "      <td>10</td>\n",
       "      <td>4</td>\n",
       "    </tr>\n",
       "    <tr>\n",
       "      <th>3</th>\n",
       "      <td>08mG3Y1vljYA6bvDt4Wqkj</td>\n",
       "      <td>Back In Black</td>\n",
       "      <td>Back In Black</td>\n",
       "      <td>AC/DC</td>\n",
       "      <td>1980-07-25</td>\n",
       "      <td>81</td>\n",
       "      <td>255493</td>\n",
       "      <td>0.310</td>\n",
       "      <td>0.011000</td>\n",
       "      <td>0.700</td>\n",
       "      <td>0.009650</td>\n",
       "      <td>0.0828</td>\n",
       "      <td>0.763</td>\n",
       "      <td>-5.678</td>\n",
       "      <td>0.0470</td>\n",
       "      <td>188.386</td>\n",
       "      <td>9</td>\n",
       "      <td>4</td>\n",
       "    </tr>\n",
       "    <tr>\n",
       "      <th>4</th>\n",
       "      <td>0hCB0YR03f6AmQaHbwWDe8</td>\n",
       "      <td>Whole Lotta Love - 1990 Remaster</td>\n",
       "      <td>Led Zeppelin II (1994 Remaster)</td>\n",
       "      <td>Led Zeppelin</td>\n",
       "      <td>1969-10-22</td>\n",
       "      <td>74</td>\n",
       "      <td>333893</td>\n",
       "      <td>0.412</td>\n",
       "      <td>0.048400</td>\n",
       "      <td>0.902</td>\n",
       "      <td>0.131000</td>\n",
       "      <td>0.4050</td>\n",
       "      <td>0.422</td>\n",
       "      <td>-11.600</td>\n",
       "      <td>0.4050</td>\n",
       "      <td>89.740</td>\n",
       "      <td>9</td>\n",
       "      <td>4</td>\n",
       "    </tr>\n",
       "    <tr>\n",
       "      <th>...</th>\n",
       "      <td>...</td>\n",
       "      <td>...</td>\n",
       "      <td>...</td>\n",
       "      <td>...</td>\n",
       "      <td>...</td>\n",
       "      <td>...</td>\n",
       "      <td>...</td>\n",
       "      <td>...</td>\n",
       "      <td>...</td>\n",
       "      <td>...</td>\n",
       "      <td>...</td>\n",
       "      <td>...</td>\n",
       "      <td>...</td>\n",
       "      <td>...</td>\n",
       "      <td>...</td>\n",
       "      <td>...</td>\n",
       "      <td>...</td>\n",
       "      <td>...</td>\n",
       "    </tr>\n",
       "    <tr>\n",
       "      <th>145</th>\n",
       "      <td>6ckozbGmOusAnLT2LEbERy</td>\n",
       "      <td>Fight Fire With Fire - Remastered</td>\n",
       "      <td>Ride The Lightning (Remastered)</td>\n",
       "      <td>Metallica</td>\n",
       "      <td>1984-07-26</td>\n",
       "      <td>57</td>\n",
       "      <td>284506</td>\n",
       "      <td>0.283</td>\n",
       "      <td>0.000037</td>\n",
       "      <td>0.988</td>\n",
       "      <td>0.728000</td>\n",
       "      <td>0.0712</td>\n",
       "      <td>0.133</td>\n",
       "      <td>-7.017</td>\n",
       "      <td>0.1110</td>\n",
       "      <td>90.791</td>\n",
       "      <td>0</td>\n",
       "      <td>4</td>\n",
       "    </tr>\n",
       "    <tr>\n",
       "      <th>146</th>\n",
       "      <td>6uuYXq7Hs8V4QSrZMDNJnu</td>\n",
       "      <td>March of the Crabs</td>\n",
       "      <td>Metal On Metal</td>\n",
       "      <td>Anvil</td>\n",
       "      <td>1982-01-01</td>\n",
       "      <td>52</td>\n",
       "      <td>154400</td>\n",
       "      <td>0.192</td>\n",
       "      <td>0.000004</td>\n",
       "      <td>0.988</td>\n",
       "      <td>0.823000</td>\n",
       "      <td>0.0508</td>\n",
       "      <td>0.133</td>\n",
       "      <td>-6.237</td>\n",
       "      <td>0.0861</td>\n",
       "      <td>119.753</td>\n",
       "      <td>11</td>\n",
       "      <td>4</td>\n",
       "    </tr>\n",
       "    <tr>\n",
       "      <th>147</th>\n",
       "      <td>4YsgFGkP1KeSFDWfZqVioX</td>\n",
       "      <td>Dance of Death - 2015 Remaster</td>\n",
       "      <td>Dance of Death (2015 Remaster)</td>\n",
       "      <td>Iron Maiden</td>\n",
       "      <td>2003</td>\n",
       "      <td>52</td>\n",
       "      <td>516426</td>\n",
       "      <td>0.311</td>\n",
       "      <td>0.046600</td>\n",
       "      <td>0.876</td>\n",
       "      <td>0.004420</td>\n",
       "      <td>0.1340</td>\n",
       "      <td>0.296</td>\n",
       "      <td>-5.115</td>\n",
       "      <td>0.0936</td>\n",
       "      <td>124.584</td>\n",
       "      <td>4</td>\n",
       "      <td>4</td>\n",
       "    </tr>\n",
       "    <tr>\n",
       "      <th>148</th>\n",
       "      <td>6i7IXg8j7ZngiEOgBYjkhw</td>\n",
       "      <td>Sweating Bullets - Remastered 2004</td>\n",
       "      <td>Countdown To Extinction (Expanded Edition - Re...</td>\n",
       "      <td>Megadeth</td>\n",
       "      <td>1992-07-14</td>\n",
       "      <td>60</td>\n",
       "      <td>327040</td>\n",
       "      <td>0.325</td>\n",
       "      <td>0.000319</td>\n",
       "      <td>0.856</td>\n",
       "      <td>0.007080</td>\n",
       "      <td>0.2570</td>\n",
       "      <td>0.652</td>\n",
       "      <td>-6.547</td>\n",
       "      <td>0.1880</td>\n",
       "      <td>69.955</td>\n",
       "      <td>4</td>\n",
       "      <td>3</td>\n",
       "    </tr>\n",
       "    <tr>\n",
       "      <th>149</th>\n",
       "      <td>2ov8L95QD25TLpZAZPYWXL</td>\n",
       "      <td>Mr. Crowley</td>\n",
       "      <td>Blizzard Of Ozz (40th Anniversary Expanded Edi...</td>\n",
       "      <td>Ozzy Osbourne</td>\n",
       "      <td>2020-09-18</td>\n",
       "      <td>63</td>\n",
       "      <td>302647</td>\n",
       "      <td>0.307</td>\n",
       "      <td>0.212000</td>\n",
       "      <td>0.748</td>\n",
       "      <td>0.000153</td>\n",
       "      <td>0.3680</td>\n",
       "      <td>0.347</td>\n",
       "      <td>-6.514</td>\n",
       "      <td>0.0568</td>\n",
       "      <td>108.227</td>\n",
       "      <td>2</td>\n",
       "      <td>4</td>\n",
       "    </tr>\n",
       "  </tbody>\n",
       "</table>\n",
       "<p>150 rows × 18 columns</p>\n",
       "</div>"
      ],
      "text/plain": [
       "                         id                                name  \\\n",
       "0    1e7sKwOgiMF2FBgb8HmlRb                       Setting Me Up   \n",
       "1    73TxYZd0lBCVRrHawrAglA                       Sweet Emotion   \n",
       "2    1YqJSpIxdavjQ8BxAttU0r            Lookin' Out My Back Door   \n",
       "3    08mG3Y1vljYA6bvDt4Wqkj                       Back In Black   \n",
       "4    0hCB0YR03f6AmQaHbwWDe8    Whole Lotta Love - 1990 Remaster   \n",
       "..                      ...                                 ...   \n",
       "145  6ckozbGmOusAnLT2LEbERy   Fight Fire With Fire - Remastered   \n",
       "146  6uuYXq7Hs8V4QSrZMDNJnu                  March of the Crabs   \n",
       "147  4YsgFGkP1KeSFDWfZqVioX      Dance of Death - 2015 Remaster   \n",
       "148  6i7IXg8j7ZngiEOgBYjkhw  Sweating Bullets - Remastered 2004   \n",
       "149  2ov8L95QD25TLpZAZPYWXL                         Mr. Crowley   \n",
       "\n",
       "                                                 album  \\\n",
       "0                                         Dire Straits   \n",
       "1                                    Toys In The Attic   \n",
       "2                                      Cosmo's Factory   \n",
       "3                                        Back In Black   \n",
       "4                      Led Zeppelin II (1994 Remaster)   \n",
       "..                                                 ...   \n",
       "145                    Ride The Lightning (Remastered)   \n",
       "146                                     Metal On Metal   \n",
       "147                     Dance of Death (2015 Remaster)   \n",
       "148  Countdown To Extinction (Expanded Edition - Re...   \n",
       "149  Blizzard Of Ozz (40th Anniversary Expanded Edi...   \n",
       "\n",
       "                           artist release_date  popularity  length  \\\n",
       "0                    Dire Straits   1978-10-07          49  198906   \n",
       "1                       Aerosmith   1975-04-08          71  274088   \n",
       "2    Creedence Clearwater Revival   1970-07-24          68  152466   \n",
       "3                           AC/DC   1980-07-25          81  255493   \n",
       "4                    Led Zeppelin   1969-10-22          74  333893   \n",
       "..                            ...          ...         ...     ...   \n",
       "145                     Metallica   1984-07-26          57  284506   \n",
       "146                         Anvil   1982-01-01          52  154400   \n",
       "147                   Iron Maiden         2003          52  516426   \n",
       "148                      Megadeth   1992-07-14          60  327040   \n",
       "149                 Ozzy Osbourne   2020-09-18          63  302647   \n",
       "\n",
       "     danceability  acousticness  energy  instrumentalness  liveness  valence  \\\n",
       "0           0.668      0.015900   0.870          0.307000    0.3170    0.878   \n",
       "1           0.379      0.002980   0.760          0.029600    0.1040    0.491   \n",
       "2           0.773      0.159000   0.756          0.002360    0.0805    0.912   \n",
       "3           0.310      0.011000   0.700          0.009650    0.0828    0.763   \n",
       "4           0.412      0.048400   0.902          0.131000    0.4050    0.422   \n",
       "..            ...           ...     ...               ...       ...      ...   \n",
       "145         0.283      0.000037   0.988          0.728000    0.0712    0.133   \n",
       "146         0.192      0.000004   0.988          0.823000    0.0508    0.133   \n",
       "147         0.311      0.046600   0.876          0.004420    0.1340    0.296   \n",
       "148         0.325      0.000319   0.856          0.007080    0.2570    0.652   \n",
       "149         0.307      0.212000   0.748          0.000153    0.3680    0.347   \n",
       "\n",
       "     loudness  speechiness    tempo  key  time_signature  \n",
       "0      -9.697       0.0340  109.917    2               4  \n",
       "1     -10.961       0.0378   99.436    9               4  \n",
       "2      -5.149       0.0388  105.322   10               4  \n",
       "3      -5.678       0.0470  188.386    9               4  \n",
       "4     -11.600       0.4050   89.740    9               4  \n",
       "..        ...          ...      ...  ...             ...  \n",
       "145    -7.017       0.1110   90.791    0               4  \n",
       "146    -6.237       0.0861  119.753   11               4  \n",
       "147    -5.115       0.0936  124.584    4               4  \n",
       "148    -6.547       0.1880   69.955    4               3  \n",
       "149    -6.514       0.0568  108.227    2               4  \n",
       "\n",
       "[150 rows x 18 columns]"
      ]
     },
     "execution_count": 35,
     "metadata": {},
     "output_type": "execute_result"
    }
   ],
   "source": [
    "data"
   ]
  },
  {
   "cell_type": "code",
   "execution_count": null,
   "metadata": {},
   "outputs": [],
   "source": []
  }
 ],
 "metadata": {
  "kernelspec": {
   "display_name": "IS",
   "language": "python",
   "name": "python3"
  },
  "language_info": {
   "codemirror_mode": {
    "name": "ipython",
    "version": 3
   },
   "file_extension": ".py",
   "mimetype": "text/x-python",
   "name": "python",
   "nbconvert_exporter": "python",
   "pygments_lexer": "ipython3",
   "version": "3.10.9"
  },
  "orig_nbformat": 4,
  "vscode": {
   "interpreter": {
    "hash": "2aeff055a6fd6269121c8648d9820a62d2720ac3b7fb7cb1b9fc158514b37176"
   }
  }
 },
 "nbformat": 4,
 "nbformat_minor": 2
}
