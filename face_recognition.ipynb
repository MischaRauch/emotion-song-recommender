{
 "cells": [
  {
   "cell_type": "code",
   "execution_count": 1,
   "metadata": {},
   "outputs": [
    {
     "name": "stderr",
     "output_type": "stream",
     "text": [
      "2023-03-11 17:53:32.464708: I tensorflow/core/platform/cpu_feature_guard.cc:193] This TensorFlow binary is optimized with oneAPI Deep Neural Network Library (oneDNN) to use the following CPU instructions in performance-critical operations:  AVX2 FMA\n",
      "To enable them in other operations, rebuild TensorFlow with the appropriate compiler flags.\n"
     ]
    }
   ],
   "source": [
    "from deepface import DeepFace"
   ]
  },
  {
   "cell_type": "code",
   "execution_count": 5,
   "metadata": {},
   "outputs": [
    {
     "name": "stderr",
     "output_type": "stream",
     "text": [
      "Action: race: 100%|██████████| 4/4 [00:00<00:00,  7.08it/s]  "
     ]
    },
    {
     "name": "stdout",
     "output_type": "stream",
     "text": [
      "[{'emotion': {'angry': 5.058629955030782e-16, 'disgust': 1.3592825033951627e-28, 'fear': 2.2512698819590643e-17, 'happy': 99.99958872792654, 'sad': 3.6078986726967884e-15, 'surprise': 1.6338946771474983e-13, 'neutral': 0.0004126845642947006}, 'dominant_emotion': 'happy', 'region': {'x': 1953, 'y': 746, 'w': 1170, 'h': 1170}, 'age': 24, 'gender': {'Woman': 0.13234749203547835, 'Man': 99.86764788627625}, 'dominant_gender': 'Man', 'race': {'asian': 0.04358116420917213, 'indian': 0.16676425002515316, 'black': 0.006122087506810203, 'white': 84.05798673629761, 'middle eastern': 7.28401318192482, 'latino hispanic': 8.441534638404846}, 'dominant_race': 'white'}]\n"
     ]
    },
    {
     "name": "stderr",
     "output_type": "stream",
     "text": [
      "\n"
     ]
    }
   ],
   "source": [
    "face_analysis = DeepFace.analyze(img_path = \"/Users/mischatomaszrauch/UM/AcademicYear_03/04_Period/IntelligentSystems/emotion-song-recommender/database/Mischa.jpg\")\n",
    "print(face_analysis)"
   ]
  },
  {
   "cell_type": "code",
   "execution_count": 2,
   "metadata": {},
   "outputs": [
    {
     "name": "stdout",
     "output_type": "stream",
     "text": [
      "facial recognition model VGG-Face is just built\n",
      "Age model is just built\n",
      "Gender model is just built\n",
      "Emotion model is just built\n",
      "WARNING: Representations for images in database folder were previously stored in representations_vgg_face.pkl. If you added new instances after the creation, then please delete this file and call find function again. It will create it again.\n",
      "There are  1  representations found in  representations_vgg_face.pkl\n",
      "find function lasts  0.6279370784759521  seconds\n"
     ]
    },
    {
     "name": "stderr",
     "output_type": "stream",
     "text": [
      "[ WARN:0@13.489] global /private/var/folders/sy/f16zz6x50xz3113nwtb9bvq00000gp/T/abs_5a1v4y7k9y/croot/opencv-suite_1676472757237/work/modules/videoio/src/cap_gstreamer.cpp (862) isPipelinePlaying OpenCV | GStreamer warning: GStreamer: pipeline have not been created\n"
     ]
    }
   ],
   "source": [
    "data = DeepFace.stream('database')\n",
    "print(data)\n",
    "#Read more at: https://viso.ai/computer-vision/deepface/"
   ]
  },
  {
   "cell_type": "code",
   "execution_count": null,
   "metadata": {},
   "outputs": [],
   "source": []
  }
 ],
 "metadata": {
  "kernelspec": {
   "display_name": "IS",
   "language": "python",
   "name": "python3"
  },
  "language_info": {
   "codemirror_mode": {
    "name": "ipython",
    "version": 3
   },
   "file_extension": ".py",
   "mimetype": "text/x-python",
   "name": "python",
   "nbconvert_exporter": "python",
   "pygments_lexer": "ipython3",
   "version": "3.10.9"
  },
  "orig_nbformat": 4,
  "vscode": {
   "interpreter": {
    "hash": "2aeff055a6fd6269121c8648d9820a62d2720ac3b7fb7cb1b9fc158514b37176"
   }
  }
 },
 "nbformat": 4,
 "nbformat_minor": 2
}
